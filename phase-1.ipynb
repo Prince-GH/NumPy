{
 "cells": [
  {
   "cell_type": "markdown",
   "metadata": {},
   "source": [
    "## LEARN NUMPY "
   ]
  },
  {
   "cell_type": "code",
   "execution_count": 69,
   "metadata": {},
   "outputs": [],
   "source": [
    "import numpy as np"
   ]
  },
  {
   "cell_type": "markdown",
   "metadata": {},
   "source": [
    "### Creating array"
   ]
  },
  {
   "cell_type": "code",
   "execution_count": 75,
   "metadata": {},
   "outputs": [
    {
     "name": "stdout",
     "output_type": "stream",
     "text": [
      "1D ARRAY:  [1 2 3 4 5]\n",
      "2D ARRAY:  [[  1   2   3   4   5]\n",
      " [  5   4   3   2   1]\n",
      " [ 11  22  33  44  55]\n",
      " [ 11  22  33  44  55]\n",
      " [ 11  22  33  44 555]]\n",
      "3\n"
     ]
    }
   ],
   "source": [
    "arr_1d = np.array([1,2,3,4,5])\n",
    "print(\"1D ARRAY: \",arr_1d)\n",
    "\n",
    "arr_2d = np.array([\n",
    "    [1,2,3,4,5],\n",
    "    [5,4,3,2,1],\n",
    "    [11,22,33,44,55],\n",
    "    [11,22,33,44,55],\n",
    "    [11,22,33,44,555]\n",
    "])\n",
    "print(\"2D ARRAY: \",arr_2d)\n",
    "arr_2d.shape\n",
    "print(arr_2d[1,2])"
   ]
  },
  {
   "cell_type": "markdown",
   "metadata": {},
   "source": [
    "### Check dimention of the array"
   ]
  },
  {
   "cell_type": "code",
   "execution_count": 84,
   "metadata": {},
   "outputs": [
    {
     "name": "stdout",
     "output_type": "stream",
     "text": [
      "[1 2 3 4 5] \n",
      "Dim: 1\n",
      "[[  1   2   3   4   5]\n",
      " [  5   4   3   2   1]\n",
      " [ 11  22  33  44  55]\n",
      " [ 11  22  33  44  55]\n",
      " [ 11  22  33  44 555]] \n",
      "Dim: 2\n"
     ]
    }
   ],
   "source": [
    "print(arr_1d,\"\\nDim:\",arr_1d.ndim)\n",
    "print(arr_2d,\"\\nDim:\",arr_2d.ndim)"
   ]
  },
  {
   "cell_type": "markdown",
   "metadata": {},
   "source": [
    "### Check no of element in array"
   ]
  },
  {
   "cell_type": "code",
   "execution_count": 87,
   "metadata": {},
   "outputs": [
    {
     "name": "stdout",
     "output_type": "stream",
     "text": [
      "(5,)\n",
      "1\n",
      "(5, 5)\n",
      "2\n"
     ]
    }
   ],
   "source": [
    "print(arr_1d.shape)\n",
    "print(arr_1d.ndim)\n",
    "print(arr_2d.shape)\n",
    "print(arr_2d.ndim)"
   ]
  },
  {
   "cell_type": "markdown",
   "metadata": {},
   "source": [
    "### Check version of numpy"
   ]
  },
  {
   "cell_type": "code",
   "execution_count": 76,
   "metadata": {},
   "outputs": [
    {
     "name": "stdout",
     "output_type": "stream",
     "text": [
      "2.0.1\n"
     ]
    }
   ],
   "source": [
    "print(np.__version__)"
   ]
  }
 ],
 "metadata": {
  "kernelspec": {
   "display_name": "Python 3",
   "language": "python",
   "name": "python3"
  },
  "language_info": {
   "codemirror_mode": {
    "name": "ipython",
    "version": 3
   },
   "file_extension": ".py",
   "mimetype": "text/x-python",
   "name": "python",
   "nbconvert_exporter": "python",
   "pygments_lexer": "ipython3",
   "version": "3.12.5"
  }
 },
 "nbformat": 4,
 "nbformat_minor": 2
}
